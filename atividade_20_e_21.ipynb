{
 "cells": [
  {
   "cell_type": "markdown",
   "metadata": {},
   "source": [
    "# Encontrando hiperparametros ótimos para uma árvore de decisão"
   ]
  },
  {
   "cell_type": "code",
   "execution_count": null,
   "metadata": {},
   "outputs": [],
   "source": [
    "import numpy as np\n",
    "import  pandas as pd\n",
    "import matplotlib.pyplot as plt\n",
    "from sklearn.model_selection import GridSearchCV\n",
    "from sklearn.tree import DecisionTreeClassifier\n",
    "from sklearn.model_selection import train_test_split\n",
    "from sklearn.ensemble import RandomForestClassifier"
   ]
  },
  {
   "cell_type": "code",
   "execution_count": null,
   "metadata": {},
   "outputs": [],
   "source": [
    "df = pd.read_csv('df_2.csv')\n",
    "df.columns\n",
    "\n",
    "x = df[['LIMIT_BAL', 'EDUCATION', 'MARRIAGE', 'AGE', 'PAY_1', 'PAY_2',\n",
    "       'PAY_3', 'PAY_4', 'PAY_5', 'PAY_6', 'BILL_AMT1', 'BILL_AMT2',\n",
    "       'BILL_AMT3', 'BILL_AMT4', 'BILL_AMT5', 'BILL_AMT6', 'PAY_AMT1',\n",
    "       'PAY_AMT2', 'PAY_AMT3', 'PAY_AMT4', 'PAY_AMT5', 'PAY_AMT6']]\n",
    "\n",
    "y = df['default payment next month']\n",
    "\n",
    "x_treino,x_teste,y_treino, y_teste = train_test_split(x,y,test_size=0.2, random_state=1)"
   ]
  },
  {
   "cell_type": "code",
   "execution_count": null,
   "metadata": {},
   "outputs": [],
   "source": [
    "# Valores a ser testado\n",
    "params  =  {'max_depth':[1,2,4,6,8,10,12]}\n",
    "\n",
    "# Instaciando o decision tree\n",
    "dt = DecisionTreeClassifier()\n",
    "dt.fit(x_treino, y_treino)\n",
    "\n",
    "# Instaciando o gridsearchcv\n",
    "cv = GridSearchCV(dt, param_grid=params, scoring='roc_auc', n_jobs=None, refit=True, cv=4, \n",
    "                  verbose=1, pre_dispatch=None, error_score = np.nan, return_train_score=True)\n",
    "cv.fit(x_treino, y_treino)\n",
    "\n",
    "# Analisando o resultado\n",
    "cv_results_df = pd.DataFrame(cv.cv_results_)\n",
    "cv_results_df"
   ]
  },
  {
   "cell_type": "code",
   "execution_count": null,
   "metadata": {},
   "outputs": [],
   "source": [
    "# Visualizando os resultados\n",
    "ax = plt.axes()\n",
    "ax.errorbar(cv_results_df['param_max_depth'], cv_results_df['mean_train_score'],yerr = cv_results_df['std_train_score'],label='train score')\n",
    "ax.errorbar(cv_results_df['param_max_depth'], cv_results_df['mean_test_score'],yerr = cv_results_df['std_test_score'], label='testing score')\n",
    "ax.legend()\n",
    "plt.xlabel('max_depth')\n",
    "plt.ylabel('ROC AUC')"
   ]
  },
  {
   "cell_type": "markdown",
   "metadata": {},
   "source": [
    "# Ajustando uma floresta aleatória"
   ]
  },
  {
   "cell_type": "code",
   "execution_count": null,
   "metadata": {},
   "outputs": [],
   "source": [
    "# Instancioando a floresta \n",
    "rf = RandomForestClassifier(n_estimators=10,criterion='gini', max_depth=3, min_samples_split=2, min_samples_leaf=1,min_weight_fraction_leaf=0, max_features='auto',\n",
    "                            max_leaf_nodes=None, min_impurity_decrease=0, bootstrap=True,oob_score=False, n_jobs=None, random_state=1, verbose=0,\n",
    "                            warm_start=False, class_weight=None)\n",
    "\n",
    "# Parametros a ser testado\n",
    "rf_params = {'n_estimators':list(range(10,110,10))}\n",
    "\n",
    "# Cv da floresta randomica\n",
    "cv_rf_ex = GridSearchCV(rf, param_grid=rf_params,scoring='roc_auc', cv=4,verbose=1, pre_dispatch=None,error_score=np.nan, return_train_score=True)\n",
    "cv_rf_ex.fit(x_treino, y_treino)\n",
    "\n",
    "# Analisando o resultado\n",
    "cv_results_rf = pd.DataFrame(cv_rf_ex.cv_results_)\n",
    "\n",
    "# Selecionando os melhores parametros analisados\n",
    "cv_rf_ex.best_params_"
   ]
  },
  {
   "cell_type": "code",
   "execution_count": null,
   "metadata": {},
   "outputs": [],
   "source": [
    "# Criando dataframe com as melhores features\n",
    "feat_imp_df = pd.DataFrame({'Importance':cv_rf_ex.best_estimator_.feature_importances_})\n",
    "feat_imp_df = feat_imp_df.sort_values('Importance', ascending=False)"
   ]
  }
 ],
 "metadata": {
  "kernelspec": {
   "display_name": "Python 3 (ipykernel)",
   "language": "python",
   "name": "python3"
  },
  "language_info": {
   "codemirror_mode": {
    "name": "ipython",
    "version": 3
   },
   "file_extension": ".py",
   "mimetype": "text/x-python",
   "name": "python",
   "nbconvert_exporter": "python",
   "pygments_lexer": "ipython3",
   "version": "3.9.13"
  },
  "vscode": {
   "interpreter": {
    "hash": "d085d2508a1aa4d1a3cff6aaaa3bf934685ce8bc1145bc78ff1cb32b428d0398"
   }
  }
 },
 "nbformat": 4,
 "nbformat_minor": 4
}
