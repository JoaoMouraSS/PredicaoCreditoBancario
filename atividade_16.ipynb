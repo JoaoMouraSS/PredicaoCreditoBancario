{
 "cells": [
  {
   "cell_type": "code",
   "execution_count": null,
   "metadata": {},
   "outputs": [],
   "source": [
    "import numpy as np\n",
    "import pandas as pd\n",
    "import matplotlib.pyplot as plt"
   ]
  },
  {
   "cell_type": "code",
   "execution_count": null,
   "metadata": {},
   "outputs": [],
   "source": [
    "x_poly = np.linspace(-3,5,81)\n",
    "\n",
    "def f (x):\n",
    "    y = (x**2) - (2*x)\n",
    "    return y\n",
    "\n",
    "y_poly = f(x_poly)\n",
    "plt.plot(x_poly,y_poly)\n",
    "plt.xlabel('Parameter')\n",
    "plt.ylabel('Cost Func')\n",
    "plt.title('Erro')"
   ]
  },
  {
   "cell_type": "code",
   "execution_count": null,
   "metadata": {},
   "outputs": [],
   "source": [
    "def gradient(x):\n",
    "    return (2*x) - 2\n",
    "\n",
    "x_start = 4.5\n",
    "lr = 0.75\n",
    "x_next = x_start - gradient(x_start)*lr\n"
   ]
  },
  {
   "cell_type": "code",
   "execution_count": null,
   "metadata": {},
   "outputs": [],
   "source": [
    "y_poly = f(x_poly)\n",
    "plt.plot(x_poly,y_poly)\n",
    "plt.plot([x_start, x_next], [f(x_start), f(x_next)], '-o')\n",
    "plt.xlabel('Parameter')\n",
    "plt.ylabel('Cost Func')\n",
    "plt.title('Erro')"
   ]
  },
  {
   "cell_type": "code",
   "execution_count": 26,
   "metadata": {},
   "outputs": [
    {
     "name": "stdout",
     "output_type": "stream",
     "text": [
      "O melhor elemento é 1.000213623046875\n"
     ]
    }
   ],
   "source": [
    "x_path = np.empty(15,)\n",
    "x_path[0] = x_start\n",
    "\n",
    "for i in range(1, 15):\n",
    "    deriv = gradient(x_path[i-1])\n",
    "    x_path[i] = x_path[i-1] - (deriv * lr)\n",
    "\n",
    "print(f'O melhor elemento é {x_path[-1]}')"
   ]
  },
  {
   "cell_type": "code",
   "execution_count": null,
   "metadata": {},
   "outputs": [],
   "source": [
    "y_poly = f(x_poly)\n",
    "plt.plot(x_poly,y_poly)\n",
    "plt.plot(x_path, f(x_path), '-o')\n",
    "plt.xlabel('Parameter')\n",
    "plt.ylabel('Cost Func')\n",
    "plt.title('Erro')"
   ]
  }
 ],
 "metadata": {
  "kernelspec": {
   "display_name": "base",
   "language": "python",
   "name": "python3"
  },
  "language_info": {
   "codemirror_mode": {
    "name": "ipython",
    "version": 3
   },
   "file_extension": ".py",
   "mimetype": "text/x-python",
   "name": "python",
   "nbconvert_exporter": "python",
   "pygments_lexer": "ipython3",
   "version": "3.9.13"
  },
  "orig_nbformat": 4,
  "vscode": {
   "interpreter": {
    "hash": "d085d2508a1aa4d1a3cff6aaaa3bf934685ce8bc1145bc78ff1cb32b428d0398"
   }
  }
 },
 "nbformat": 4,
 "nbformat_minor": 2
}
